{
 "cells": [
  {
   "cell_type": "code",
   "execution_count": null,
   "id": "8ec31ee6",
   "metadata": {},
   "outputs": [],
   "source": [
    "# The Problem Statement:\n",
    " #This data is about the amount spent on advertising on tv channels like repulic,NDTV,TV5,TV9,AAJTAK,SALES. \n",
    "    #We have to predict that how expense on each  news channel affects the sales and way of opitmization of sales.."
   ]
  },
  {
   "cell_type": "code",
   "execution_count": 17,
   "id": "9646ddb8",
   "metadata": {},
   "outputs": [],
   "source": [
    "import pandas as pd\n",
    "import matplotlib.pyplot as plt\n",
    "%matplotlib inline"
   ]
  },
  {
   "cell_type": "code",
   "execution_count": null,
   "id": "d183c3bd",
   "metadata": {},
   "outputs": [],
   "source": [
    "data=pd.read_csv('\"C:\\Users\\Microsoft\\Downloads\\Test_Sales_LinReg.csv\"')\n",
    "data.head()\n",
    "data.shape\n",
    "data.info()\n",
    "data.isna().sum()"
   ]
  },
  {
   "cell_type": "code",
   "execution_count": null,
   "id": "e9ff9b4d",
   "metadata": {},
   "outputs": [],
   "source": []
  },
  {
   "cell_type": "code",
   "execution_count": null,
   "id": "79aa6e05",
   "metadata": {},
   "outputs": [],
   "source": [
    "fig,axs=plt.subplots(1,3)\n",
    "data.plot(kind='scatter',x='Republic',y='sales',ax=axs[0],figsize(12,6))\n",
    "data.plot(kind='scatter',x='NDTV',y='sales',ax=axs[1])\n",
    "data.plot(kind='scatter',x='TV5',y='sales',ax=axs[2])\n",
    "data.plot(kind='scatter',x='TV9',y='sales',ax=axs[3])\n",
    "data.plot(kind='scatter',x='Aajtak',y='sales',ax=axs[4])\n",
    "fig.savefig('Test_sale_data.jpg')\n"
   ]
  },
  {
   "cell_type": "code",
   "execution_count": null,
   "id": "16fd0c20",
   "metadata": {},
   "outputs": [],
   "source": [
    "x=data[['Republic','NDTV','TV5','TV9','Aajtak']]\n",
    "y=data.sales\n"
   ]
  },
  {
   "cell_type": "code",
   "execution_count": null,
   "id": "e5c44487",
   "metadata": {},
   "outputs": [],
   "source": [
    "from sklearn.linear.model import LinearRegression\n",
    "lm=LinearRegression()\n",
    "lm.fit(x,y)\n",
    "\n",
    "print('Intercept:   ->',lm.intercept_)\n",
    "print('Repupblic:    ->',lm.coef_[0])\n",
    "print('TV5:          ->',lm.coef_[1])\n",
    "print('TV9:          ->',lm.coef_[2])\n",
    "print('Aajtak:       ->',lm.coef_[3])\n",
    "\n"
   ]
  },
  {
   "cell_type": "code",
   "execution_count": null,
   "id": "464ce30a",
   "metadata": {},
   "outputs": [],
   "source": [
    "# Feature Selection\n",
    "#Predicting the value of R2 "
   ]
  }
 ],
 "metadata": {
  "kernelspec": {
   "display_name": "Python 3 (ipykernel)",
   "language": "python",
   "name": "python3"
  },
  "language_info": {
   "codemirror_mode": {
    "name": "ipython",
    "version": 3
   },
   "file_extension": ".py",
   "mimetype": "text/x-python",
   "name": "python",
   "nbconvert_exporter": "python",
   "pygments_lexer": "ipython3",
   "version": "3.11.5"
  }
 },
 "nbformat": 4,
 "nbformat_minor": 5
}
